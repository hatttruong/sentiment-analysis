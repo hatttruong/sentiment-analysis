{
 "cells": [
  {
   "cell_type": "code",
   "execution_count": 17,
   "metadata": {},
   "outputs": [],
   "source": [
    "import string\n",
    "import gensim\n",
    "from pathlib import Path\n",
    "import pandas as pd\n",
    "import pprint\n",
    "pp = pprint.PrettyPrinter(indent=4)\n",
    "\n",
    "# Plotting tools\n",
    "import pyLDAvis\n",
    "import pyLDAvis.gensim  # don't skip this\n",
    "import matplotlib.pyplot as plt\n",
    "%matplotlib inline\n"
   ]
  },
  {
   "cell_type": "code",
   "execution_count": 18,
   "metadata": {},
   "outputs": [],
   "source": [
    "DATA_DIR = '../data/'\n",
    "corpus_paths = [ \n",
    "    Path(DATA_DIR + 'Negative_train.csv.preprocessed'),\n",
    "    Path(DATA_DIR + 'Neutral_train.csv.preprocessed'),\n",
    "    Path(DATA_DIR + 'Positive_train.csv.preprocessed')]"
   ]
  },
  {
   "cell_type": "code",
   "execution_count": 19,
   "metadata": {},
   "outputs": [],
   "source": [
    "# load VN stopwords\n",
    "stopword_path = Path(DATA_DIR + 'vietnamese-stopwords-dash.txt')\n",
    "stopwords = []\n",
    "with open(str(stopword_path)) as f:\n",
    "    lines = f.readlines()\n",
    "    stopwords = [l.strip() for l in lines]\n",
    "# stopwords[:10]"
   ]
  },
  {
   "cell_type": "code",
   "execution_count": 20,
   "metadata": {},
   "outputs": [],
   "source": [
    "data = []\n",
    "for corpus_path in corpus_paths:\n",
    "    df = pd.read_csv(corpus_path, header=None, names=['text'])\n",
    "    data.extend(df.text.tolist())"
   ]
  },
  {
   "cell_type": "code",
   "execution_count": 21,
   "metadata": {},
   "outputs": [
    {
     "name": "stdout",
     "output_type": "stream",
     "text": [
      "data_words[:1]: [['sản_phẩm', 'dầu', 'xả', 'sunsilk_nourishing', 'soft', 'and_smooth', 'conditionerbao', 'bì', 'chai', 'nhựa', 'màu', 'vàng', 'chóegiá', 'knơi', 'mua', 'siêu_thị', 'co', 'op', 'martđánh', 'giá', 'hãng', 'quảng_cáo', 'dầu', 'xả', 'dưỡng_chất', 'macadamia', 'hỗn_hợp', 'tinh_dầu', 'tự_nhiên', 'giúp', 'nuôi_dưỡng', 'tóc', 'mềm', 'mượt', 'xong', 'tóc', 'mềm', 'mượt', 'dầu', 'xả', 'tóc', 'khô', 'rảnh', 'trọng_lượng', 'chai', 'dầu', 'xả', 'dầu', 'xả', 'xài', 'chai', 'mua', 'mua']]\n"
     ]
    }
   ],
   "source": [
    "ignored_words = stopwords + list(string.punctuation) + ['email_token', 'url_token', 'number_token', 'phone_token', 'currency_token', 'datetime_token']\n",
    "def sent_to_words(sentences):\n",
    "    for sentence in sentences:\n",
    "        yield [w.strip() for w in sentence.split() if w not in ignored_words]\n",
    "\n",
    "data_words = list(sent_to_words(data))\n",
    "\n",
    "print('data_words[:1]:', data_words[:1])"
   ]
  },
  {
   "cell_type": "markdown",
   "metadata": {},
   "source": [
    "### Creating Bigram and Trigram Models"
   ]
  },
  {
   "cell_type": "code",
   "execution_count": 22,
   "metadata": {},
   "outputs": [],
   "source": [
    "# Build the bigram and trigram models\n",
    "# subset_data_words = \n",
    "bigram = gensim.models.Phrases(data_words, min_count=5, threshold=100) # higher threshold fewer phrases.\n",
    "# trigram = gensim.models.Phrases(bigram[data_words], threshold=100)\n",
    "\n",
    "# Faster way to get a sentence clubbed as a trigram/bigram\n",
    "bigram_mod = gensim.models.phrases.Phraser(bigram)\n",
    "# trigram_mod = gensim.models.phrases.Phraser(trigram)\n",
    "\n",
    "# See trigram example\n",
    "# print(trigram_mod[bigram_mod[data_words[0]]])"
   ]
  },
  {
   "cell_type": "code",
   "execution_count": 23,
   "metadata": {},
   "outputs": [],
   "source": [
    "def make_bigrams(texts):\n",
    "    return [bigram_mod[doc] for doc in texts]\n",
    "\n",
    "def make_trigrams(texts):\n",
    "    return [trigram_mod[bigram_mod[doc]] for doc in texts]"
   ]
  },
  {
   "cell_type": "code",
   "execution_count": 24,
   "metadata": {},
   "outputs": [
    {
     "name": "stdout",
     "output_type": "stream",
     "text": [
      "data_words_bigrams[:1]:  [['sản_phẩm', 'dầu_xả', 'sunsilk_nourishing', 'soft', 'and_smooth', 'conditionerbao', 'bì', 'chai', 'nhựa', 'màu', 'vàng', 'chóegiá', 'knơi', 'mua', 'siêu_thị', 'co_op', 'martđánh', 'giá', 'hãng', 'quảng_cáo', 'dầu_xả', 'dưỡng_chất', 'macadamia', 'hỗn_hợp', 'tinh_dầu', 'tự_nhiên', 'giúp', 'nuôi_dưỡng', 'tóc_mềm', 'mượt', 'xong', 'tóc_mềm', 'mượt', 'dầu_xả', 'tóc', 'khô', 'rảnh', 'trọng_lượng', 'chai', 'dầu_xả', 'dầu_xả', 'xài', 'chai', 'mua', 'mua']]\n"
     ]
    }
   ],
   "source": [
    "data_words_bigrams = make_bigrams(data_words)\n",
    "print('data_words_bigrams[:1]: ', data_words_bigrams[:1])"
   ]
  },
  {
   "cell_type": "markdown",
   "metadata": {},
   "source": [
    "### Create the Dictionary and Corpus needed for Topic Modeling"
   ]
  },
  {
   "cell_type": "code",
   "execution_count": 25,
   "metadata": {},
   "outputs": [],
   "source": [
    "# Create Dictionary\n",
    "id2word = gensim.corpora.Dictionary(data_words_bigrams)\n",
    "\n",
    "# Create Corpus\n",
    "texts = data_words_bigrams\n",
    "\n",
    "# Term Document Frequency\n",
    "corpus = [id2word.doc2bow(text) for text in texts]\n",
    "\n",
    "# View\n",
    "# print(corpus[:1])"
   ]
  },
  {
   "cell_type": "code",
   "execution_count": 26,
   "metadata": {},
   "outputs": [
    {
     "name": "stdout",
     "output_type": "stream",
     "text": [
      "corpus[:1] (term-frequency):  [[('and_smooth', 1), ('bì', 1), ('chai', 3), ('chóegiá', 1), ('co_op', 1), ('conditionerbao', 1), ('dưỡng_chất', 1), ('dầu_xả', 5), ('giá', 1), ('giúp', 1), ('hãng', 1), ('hỗn_hợp', 1), ('khô', 1), ('knơi', 1), ('macadamia', 1), ('martđánh', 1), ('mua', 3), ('màu', 1), ('mượt', 2), ('nhựa', 1), ('nuôi_dưỡng', 1), ('quảng_cáo', 1), ('rảnh', 1), ('siêu_thị', 1), ('soft', 1), ('sunsilk_nourishing', 1), ('sản_phẩm', 1), ('tinh_dầu', 1), ('trọng_lượng', 1), ('tóc', 1), ('tóc_mềm', 2), ('tự_nhiên', 1), ('vàng', 1), ('xong', 1), ('xài', 1)]]\n"
     ]
    }
   ],
   "source": [
    "# Human readable format of corpus (term-frequency)\n",
    "print('corpus[:1] (term-frequency): ', [[(id2word[id], freq) for id, freq in cp] for cp in corpus[:1]])"
   ]
  },
  {
   "cell_type": "markdown",
   "metadata": {},
   "source": [
    "### Building the Topic Model"
   ]
  },
  {
   "cell_type": "code",
   "execution_count": 27,
   "metadata": {},
   "outputs": [],
   "source": [
    "# Build LDA model\n",
    "num_topics = 4\n",
    "lda_model = gensim.models.ldamodel.LdaModel(corpus=corpus,\n",
    "                                            id2word=id2word,\n",
    "                                            num_topics=num_topics, \n",
    "                                            random_state=100,\n",
    "                                            update_every=1,\n",
    "                                            chunksize=100,\n",
    "                                            passes=10,\n",
    "                                            alpha='auto',\n",
    "                                            per_word_topics=True)\n"
   ]
  },
  {
   "cell_type": "code",
   "execution_count": 28,
   "metadata": {},
   "outputs": [
    {
     "name": "stdout",
     "output_type": "stream",
     "text": [
      "[   (   0,\n",
      "        '0.046*\"vé\" + 0.038*\"tết\" + 0.028*\"giá\" + 0.023*\"bay\" + '\n",
      "        '0.018*\"khuyến_mãi\" + 0.015*\"hà_nội\" + 0.013*\"chương_trình\" + '\n",
      "        '0.013*\"vietjet\" + 0.010*\"áp_dụng\" + 0.009*\"mobifone\"'),\n",
      "    (   1,\n",
      "        '0.052*\"khai_xuân\" + 0.046*\"hấp_dẫn\" + 0.044*\"thay_đổi_nhỏ_khởi_đầu\" + '\n",
      "        '0.044*\"rinh_quà\" + 0.044*\"tràn_đầy_phúc_lộc_thọ\" + '\n",
      "        '0.043*\"urlpatt_khám_phá\" + 0.043*\"gợi_ý_khởi_đầu\" + 0.022*\"bé\" + '\n",
      "        '0.019*\"mẹ\" + 0.014*\"nestlé\"'),\n",
      "    (   2,\n",
      "        '0.022*\"đi\" + 0.019*\"đẹp\" + 0.015*\"mua\" + 0.013*\"xe\" + 0.011*\"lắm\" + '\n",
      "        '0.010*\"nè\" + 0.008*\"ko\" + 0.007*\"re\" + 0.006*\"e\" + 0.006*\"giá\"'),\n",
      "    (   3,\n",
      "        '0.020*\"gia_đình\" + 0.014*\"việt_nam\" + 0.012*\"sản_phẩm\" + '\n",
      "        '0.012*\"gợi_ý\" + 0.011*\"khởi_đầu\" + 0.008*\"vn\" + 0.008*\"urlpatt\" + '\n",
      "        '0.007*\"tham_gia\" + 0.006*\"giúp\" + 0.006*\"một_chút\"')]\n"
     ]
    }
   ],
   "source": [
    "# Print the Keyword in the 10 topics\n",
    "pp.pprint(lda_model.print_topics())\n",
    "doc_lda = lda_model[corpus]"
   ]
  },
  {
   "cell_type": "markdown",
   "metadata": {},
   "source": [
    "###  Compute Model Perplexity and Coherence Score"
   ]
  },
  {
   "cell_type": "code",
   "execution_count": 29,
   "metadata": {},
   "outputs": [
    {
     "name": "stdout",
     "output_type": "stream",
     "text": [
      "\n",
      "Perplexity:  -9.7976719387536\n",
      "\n",
      "Coherence Score:  0.44068492873336707\n"
     ]
    }
   ],
   "source": [
    "# Compute Perplexity\n",
    "print('\\nPerplexity: ', lda_model.log_perplexity(corpus))  # a measure of how good the model is. lower the better.\n",
    "\n",
    "# Compute Coherence Score\n",
    "coherence_model_lda = gensim.models.CoherenceModel(model=lda_model, \n",
    "                                                   texts=data_words_bigrams, \n",
    "                                                   dictionary=id2word,\n",
    "                                                   coherence='c_v')\n",
    "coherence_lda = coherence_model_lda.get_coherence()\n",
    "print('\\nCoherence Score: ', coherence_lda)"
   ]
  },
  {
   "cell_type": "markdown",
   "metadata": {},
   "source": [
    "### How to find the optimal number of topics for LDA?"
   ]
  },
  {
   "cell_type": "code",
   "execution_count": 52,
   "metadata": {},
   "outputs": [],
   "source": [
    "def compute_coherence_values(dictionary, corpus, texts, limit, start=2, step=3):\n",
    "    \"\"\"\n",
    "    Compute c_v coherence for various number of topics\n",
    "\n",
    "    Parameters:\n",
    "    ----------\n",
    "    dictionary : Gensim dictionary\n",
    "    corpus : Gensim corpus\n",
    "    texts : List of input texts\n",
    "    limit : Max num of topics\n",
    "\n",
    "    Returns:\n",
    "    -------\n",
    "    model_list : List of LDA topic models\n",
    "    coherence_values : Coherence values corresponding to the LDA model with respective number of topics\n",
    "    \"\"\"\n",
    "    coherence_values = []\n",
    "    model_list = []\n",
    "    for num_topics in range(start, limit, step):\n",
    "        print('num_topics: ', num_topics)\n",
    "#         model = gensim.models.wrappers.LdaMallet(mallet_path, corpus=corpus, num_topics=num_topics, id2word=id2word)\n",
    "        model = gensim.models.ldamodel.LdaModel(corpus=corpus,\n",
    "                                            id2word=id2word,\n",
    "                                            num_topics=num_topics, \n",
    "                                            random_state=100,\n",
    "                                            update_every=1,\n",
    "                                            chunksize=100,\n",
    "                                            passes=10,\n",
    "                                            alpha='auto',\n",
    "                                            per_word_topics=True)\n",
    "        model_list.append(model)\n",
    "        coherencemodel = gensim.models.CoherenceModel(model=model, texts=texts, dictionary=dictionary, coherence='c_v')\n",
    "        coherence_values.append(coherencemodel.get_coherence())\n",
    "\n",
    "    return model_list, coherence_values"
   ]
  },
  {
   "cell_type": "code",
   "execution_count": 50,
   "metadata": {},
   "outputs": [],
   "source": [
    "# Can take a long time to run.\n",
    "model_list, coherence_values = compute_coherence_values(dictionary=id2word, corpus=corpus, texts=data_words_bigrams, start=2, limit=40, step=2)"
   ]
  },
  {
   "cell_type": "code",
   "execution_count": 51,
   "metadata": {},
   "outputs": [
    {
     "data": {
      "image/png": "[encoded data removed]",
      "text/plain": [
       "<Figure size 432x288 with 1 Axes>"
      ]
     },
     "metadata": {},
     "output_type": "display_data"
    }
   ],
   "source": [
    "# Show graph\n",
    "limit=40; start=2; step=2;\n",
    "x = range(start, limit, step)\n",
    "plt.plot(x, coherence_values)\n",
    "plt.xlabel(\"Num Topics\")\n",
    "plt.ylabel(\"Coherence score\")\n",
    "plt.legend((\"coherence_values\"), loc='best')\n",
    "# plt.show()\n",
    "plt.savefig('compute_coherence_values.png')"
   ]
  },
  {
   "cell_type": "markdown",
   "metadata": {},
   "source": [
    "### Visualize the topics-keywords"
   ]
  },
  {
   "cell_type": "code",
   "execution_count": 30,
   "metadata": {},
   "outputs": [
    {
     "name": "stderr",
     "output_type": "stream",
     "text": [
      "/usr/local/lib/python3.5/dist-packages/pyLDAvis/_prepare.py:257: FutureWarning: Sorting because non-concatenation axis is not aligned. A future version\n",
      "of pandas will change to not sort by default.\n",
      "\n",
      "To accept the future behavior, pass 'sort=False'.\n",
      "\n",
      "To retain the current behavior and silence the warning, pass 'sort=True'.\n",
      "\n",
      "  return pd.concat([default_term_info] + list(topic_dfs))\n"
     ]
    },
    {
     "data": {
      "text/html": [
       "\n",
       "<link rel=\"stylesheet\" type=\"text/css\" href=\"https://cdn.rawgit.com/bmabey/pyLDAvis/files/ldavis.v1.0.0.css\">\n",
       "\n",
       "\n",
       "<div id=\"ldavis_el291406993544896243573527\"></div>\n",
       "<script type=\"text/javascript\">\n",
       "\n",
       "var ldavis_el291406993544896243573527_data = {\"token.table\": {\"Term\": [\"a\", \"a\", \"a\", \"an_to\\u00e0n\", \"bao_g\\u1ed3m_thu\\u1ebf\", \"bao_g\\u1ed3m_thu\\u1ebf\", \"bay\", \"bay\", \"bobby\", \"bobby\", \"b\\u00e9\", \"b\\u00e9\", \"b\\u1ea3o_hi\\u1ec3m\", \"b\\u1ea3o_hi\\u1ec3m_nh\\u00e2n_th\\u1ecd\", \"b\\u1ea3o_v\\u1ec7\", \"b\\u1ea3o_v\\u1ec7\", \"chi\\u1ec1u\", \"chi\\u1ec1u\", \"chi\\u1ec1u\", \"chi\\u1ec1u\", \"chuy\\u1ebfn\", \"chuy\\u1ebfn\", \"ch\\u00f3ng\", \"ch\\u00f3ng\", \"ch\\u00fac\", \"ch\\u00fac\", \"ch\\u00fac\", \"ch\\u00fac\", \"ch\\u01b0\\u01a1ng_tr\\u00ecnh\", \"ch\\u01b0\\u01a1ng_tr\\u00ecnh\", \"ch\\u1ea1y\", \"ch\\u1ea1y\", \"ch\\u1eb7ng_bay\", \"ch\\u1eb7ng_bay\", \"ch\\u1ee5p\", \"ch\\u1ee5p\", \"clip\", \"clip\", \"com\", \"com\", \"com\", \"cu\\u1ed9c_s\\u1ed1ng\", \"c\\u00e2n\", \"c\\u00e2n\", \"c\\u00f4ng_ngh\\u1ec7\", \"c\\u00f4ng_ngh\\u1ec7\", \"c\\u00f4ng_ty\", \"c\\u00f4ng_vi\\u1ec7c\", \"c\\u1ef1c\", \"c\\u1ef1c\", \"c\\u1ef1c\", \"c\\u1ef1c\", \"da\", \"da\", \"dinh_d\\u01b0\\u1ee1ng\", \"dinh_d\\u01b0\\u1ee1ng\", \"d\\u00f2ng\", \"d\\u00f2ng\", \"d\\u00f2ng\", \"d\\u1ecbch_v\\u1ee5\", \"d\\u1ecbch_v\\u1ee5\", \"d\\u1ef1_\\u00e1n\", \"e\", \"e\", \"e\", \"emo_pos_token\", \"emo_pos_token\", \"emo_pos_token\", \"ga\", \"ga\", \"game\", \"game\", \"gia_\\u0111\\u00ecnh\", \"gia_\\u0111\\u00ecnh\", \"gi\\u00e1\", \"gi\\u00e1\", \"gi\\u00e1\", \"gi\\u00fap\", \"gi\\u00fap\", \"gi\\u00fap\", \"gi\\u00fap\", \"gi\\u1ea3i\", \"gi\\u1ea3i\", \"gi\\u1ecf_qu\\u00e0\", \"gi\\u1ecf_qu\\u00e0\", \"g\\u00e1i\", \"g\\u00e1i\", \"g\\u1eafn_k\\u1ebft\", \"g\\u1ee3i_\\u00fd\", \"g\\u1ee3i_\\u00fd_kh\\u1edfi_\\u0111\\u1ea7u\", \"g\\u1ee3i_\\u00fd_kh\\u1edfi_\\u0111\\u1ea7u\", \"g\\u1eedi\", \"g\\u1eedi\", \"hcm\", \"hcm\", \"hi\\u1ec7n_\\u0111\\u1ea1i\", \"huggies\", \"huggies\", \"h\\u00e0_n\\u1ed9i\", \"h\\u00e0_n\\u1ed9i\", \"h\\u00e0ng\", \"h\\u00e0ng\", \"h\\u00e0ng\", \"h\\u00e0nh_tr\\u00ecnh\", \"h\\u00e0nh_tr\\u00ecnh\", \"h\\u00e0nh_tr\\u00ecnh\", \"h\\u00e3ng\", \"h\\u00e3ng\", \"h\\u00e3ng\", \"h\\u00ecnh_\\u1ea3nh\", \"h\\u00ecnh_\\u1ea3nh\", \"h\\u1ea1nh_ph\\u00fac\", \"h\\u1ea1nh_ph\\u00fac\", \"h\\u1ea1t\", \"h\\u1ea1t\", \"h\\u1ea5p_d\\u1eabn\", \"h\\u1ea5p_d\\u1eabn\", \"h\\u1ea5p_d\\u1eabn\", \"jetstar\", \"jetstar\", \"k\", \"k\", \"khai_xu\\u00e2n\", \"khai_xu\\u00e2n\", \"khuy\\u1ebfn_m\\u00e3i\", \"khuy\\u1ebfn_m\\u00e3i\", \"khuy\\u1ebfn_m\\u1ea1i\", \"khuy\\u1ebfn_m\\u1ea1i\", \"kh\\u00e1ch_h\\u00e0ng\", \"kh\\u00e1ch_h\\u00e0ng\", \"kh\\u00e1m_ph\\u00e1\", \"kh\\u1edfi_\\u0111\\u1ea7u\", \"kh\\u1edfi_\\u0111\\u1ea7u\", \"kh\\u1ee9_h\\u1ed3i\", \"kh\\u1ee9_h\\u1ed3i\", \"ko\", \"ko\", \"ko\", \"kotex\", \"kotex\", \"lg\", \"lg\", \"li\\u00ean_h\\u1ec7\", \"li\\u00ean_h\\u1ec7\", \"ly\", \"ly\", \"l\\u00e0m_vi\\u1ec7c\", \"l\\u00e0m_vi\\u1ec7c\", \"l\\u1eafm\", \"l\\u1eafm\", \"l\\u1ef1a_ch\\u1ecdn\", \"l\\u1ef1a_ch\\u1ecdn\", \"m\", \"m\", \"maggi\", \"maggi\", \"manulife\", \"milo\", \"milo\", \"mi\\u1ec5n_ph\\u00ed\", \"mi\\u1ec5n_ph\\u00ed\", \"mobifone\", \"mobifone\", \"mua\", \"mua\", \"mua\", \"m\\u00e0u\", \"m\\u00e0u\", \"m\\u00e1y\", \"m\\u00e1y\", \"m\\u00e1y_bay\", \"m\\u00e1y_bay\", \"m\\u00f3n\", \"m\\u00f3n\", \"m\\u00f3n\", \"m\\u1ea1ng\", \"m\\u1ea1ng\", \"m\\u1ea5y\", \"m\\u1ea5y\", \"m\\u1eabu\", \"m\\u1eabu\", \"m\\u1eb9\", \"m\\u1eb9\", \"m\\u1ed9t_ch\\u00fat\", \"m\\u1ed9t_ch\\u00fat\", \"nescafe\", \"nescafe\", \"nestle\", \"nestle\", \"nestl\\u00e9\", \"nestl\\u00e9\", \"ngoan\", \"ngoan\", \"ngon\", \"ngon\", \"ngon\", \"nha\", \"nha\", \"nha\", \"nha\", \"ni\\u1ec1m_vui\", \"ni\\u1ec1m_vui\", \"ni\\u1ec1m_vui\", \"novaland\", \"n\\u00e8\", \"n\\u00e8\", \"n\\u0103ng_l\\u01b0\\u1ee3ng\", \"n\\u0103ng_l\\u01b0\\u1ee3ng\", \"n\\u1ea1p\", \"n\\u1ea1p\", \"n\\u1ea5u\", \"n\\u1ea5u\", \"n\\u1ea5u\", \"ok\", \"ok\", \"ph\\u00ed\", \"ph\\u00ed\", \"ph\\u00fac_l\\u1ed9c_th\\u1ecd\", \"ph\\u00fac_l\\u1ed9c_th\\u1ecd\", \"prudential\", \"qu\\u00e0\", \"qu\\u00e0\", \"qu\\u00e0\", \"qu\\u00e0\", \"re\", \"re\", \"rinh_qu\\u00e0\", \"rinh_qu\\u00e0\", \"r\\u1ebb\", \"r\\u1ebb\", \"r\\u1ebb\", \"samsung\", \"samsung\", \"s\\u00e1ng_t\\u1ea1o\", \"s\\u1ea3n_ph\\u1ea9m\", \"s\\u1ea3n_ph\\u1ea9m\", \"s\\u1ea3n_ph\\u1ea9m\", \"s\\u1ed1ng\", \"s\\u1ed1ng\", \"s\\u1ee9c_kh\\u1ecfe\", \"s\\u1eefa\", \"s\\u1eefa\", \"s\\u1eefa_chua\", \"s\\u1eefa_chua\", \"th_true\", \"th_true\", \"tham_gia\", \"tham_gia\", \"tham_gia\", \"thanh_to\\u00e1n\", \"thanh_to\\u00e1n\", \"thay_\\u0111\\u1ed5i_nh\\u1ecf_kh\\u1edfi_\\u0111\\u1ea7u\", \"thay_\\u0111\\u1ed5i_nh\\u1ecf_kh\\u1edfi_\\u0111\\u1ea7u\", \"thi\\u1ebft_k\\u1ebf\", \"thi\\u1ebft_k\\u1ebf\", \"thu\\u00ea_bao\", \"thu\\u00ea_bao\", \"th\\u00e0nh_c\\u00f4ng\", \"th\\u00e0nh_c\\u00f4ng\", \"th\\u00fa_v\\u1ecb\", \"th\\u01a1m\", \"th\\u01a1m\", \"th\\u01b0\\u01a1ng_hi\\u1ec7u\", \"th\\u1ebb\", \"th\\u1ebb\", \"th\\u1ebf_gi\\u1edbi\", \"th\\u1ecb_tr\\u01b0\\u1eddng\", \"th\\u1eed\", \"th\\u1eed\", \"ti\\u1ec1n\", \"ti\\u1ec1n\", \"ti\\u1ec1n\", \"tp_hcm\", \"tp_hcm\", \"tp_hcm\", \"tr\\u00e0n_\\u0111\\u1ea7y\", \"tr\\u00e0n_\\u0111\\u1ea7y\", \"tr\\u00e0n_\\u0111\\u1ea7y_ph\\u00fac_l\\u1ed9c_th\\u1ecd\", \"tr\\u00e0n_\\u0111\\u1ea7y_ph\\u00fac_l\\u1ed9c_th\\u1ecd\", \"tr\\u01b0\\u1eddng\", \"tr\\u1eafng\", \"tr\\u1eafng\", \"tui\", \"tui\", \"tuy\\u1ec7t\", \"tuy\\u1ec7t\", \"t\\u00ecnh_th\\u00e2n\", \"t\\u00ecnh_th\\u00e2n\", \"t\\u00ecnh_th\\u00e2n\", \"t\\u00f3c\", \"t\\u00f3c\", \"t\\u00f3c\", \"t\\u1eadp_\\u0111o\\u00e0n\", \"t\\u1eb7ng\", \"t\\u1eb7ng\", \"t\\u1eb7ng\", \"t\\u1eb7ng\", \"t\\u1ebft\", \"t\\u1ebft\", \"t\\u1ebft\", \"t\\u1ed5_ch\\u1ee9c\", \"t\\u1ee7_l\\u1ea1nh\", \"t\\u1ee7_l\\u1ea1nh\", \"t\\u1ef1_nhi\\u00ean\", \"t\\u1ef1_nhi\\u00ean\", \"t\\u1ef1_nhi\\u00ean\", \"t\\u1ef1_tin\", \"t\\u1ef1_tin\", \"urlpatt\", \"urlpatt\", \"urlpatt\", \"urlpatt_kh\\u00e1m_ph\\u00e1\", \"urlpatt_kh\\u00e1m_ph\\u00e1\", \"u\\u1ed1ng\", \"u\\u1ed1ng\", \"v\", \"v\", \"vietjet\", \"vietjet\", \"vietnam_airlines\", \"vietnam_airlines\", \"vinaphone\", \"vinaphone\", \"vi\\u1ec7t\", \"vi\\u1ec7t\", \"vi\\u1ec7t_nam\", \"vi\\u1ec7t_nam\", \"vn\", \"vn\", \"vn\", \"vn\", \"vui\", \"vui\", \"vui\", \"vui\", \"v\\u00e9\", \"v\\u00e9\", \"v\\u1ecb\", \"v\\u1ecb\", \"xe\", \"xe\", \"xong\", \"xong\", \"xong\", \"x\\u00e0i\", \"x\\u00e0i\", \"yamaha\", \"yamaha\", \"youtube_com\", \"youtube_com\", \"youtube_com\", \"y\\u00eau\", \"y\\u00eau\", \"y\\u00eau\", \"y\\u00eau_th\\u01b0\\u01a1ng\", \"y\\u00eau_th\\u01b0\\u01a1ng\", \"\\u00e1p_d\\u1ee5ng\", \"\\u00e1p_d\\u1ee5ng\", \"\\u00fd_ngh\\u0129a\", \"\\u0111c\", \"\\u0111c\", \"\\u0111i\", \"\\u0111i\", \"\\u0111i\", \"\\u0111\\u00e0_n\\u1eb5ng\", \"\\u0111\\u00e0_n\\u1eb5ng\", \"\\u0111\\u00f3n\", \"\\u0111\\u00f3n\", \"\\u0111\\u00f3n\", \"\\u0111\\u00f4i\", \"\\u0111\\u00f4i\", \"\\u0111\\u0103ng_k\\u00fd\", \"\\u0111\\u0103ng_k\\u00fd\", \"\\u0111\\u01b0\\u1eddng_bay\", \"\\u0111\\u01b0\\u1eddng_bay\", \"\\u0111\\u1ea5y\", \"\\u0111\\u1ea5y\", \"\\u0111\\u1ea5y\", \"\\u0111\\u1ea7u_t\\u01b0\", \"\\u0111\\u1eb9p\", \"\\u0111\\u1eb9p\", \"\\u0111\\u1ed3ng\", \"\\u0111\\u1ed3ng\", \"\\u0111\\u1ed3ng_h\\u00e0nh\", \"\\u01b0u_\\u0111\\u00e3i\", \"\\u01b0u_\\u0111\\u00e3i\", \"\\u1ea3nh\", \"\\u1ea3nh\"], \"Topic\": [1, 2, 4, 2, 2, 3, 2, 3, 2, 4, 2, 4, 2, 2, 2, 4, 1, 2, 3, 4, 2, 3, 2, 4, 1, 2, 3, 4, 2, 3, 1, 2, 2, 3, 1, 2, 1, 2, 2, 3, 4, 2, 2, 4, 1, 2, 2, 2, 1, 2, 3, 4, 2, 4, 2, 4, 1, 2, 4, 2, 3, 2, 1, 2, 3, 1, 2, 3, 1, 2, 1, 2, 1, 2, 1, 2, 3, 1, 2, 3, 4, 2, 3, 2, 4, 1, 2, 2, 2, 2, 4, 2, 3, 2, 3, 2, 2, 4, 2, 3, 1, 2, 3, 2, 3, 4, 1, 2, 3, 1, 2, 2, 4, 2, 4, 2, 3, 4, 2, 3, 1, 2, 2, 4, 2, 3, 2, 3, 2, 3, 2, 2, 4, 2, 3, 1, 2, 4, 1, 2, 1, 2, 2, 3, 2, 4, 2, 3, 1, 2, 2, 3, 1, 2, 2, 4, 2, 2, 4, 2, 3, 2, 3, 1, 2, 3, 1, 2, 1, 2, 2, 3, 1, 2, 4, 2, 3, 1, 2, 1, 2, 2, 4, 1, 2, 2, 4, 2, 4, 2, 4, 2, 4, 1, 2, 4, 1, 2, 3, 4, 2, 3, 4, 2, 1, 2, 2, 4, 2, 3, 1, 2, 4, 1, 2, 2, 3, 2, 4, 2, 1, 2, 3, 4, 1, 2, 2, 4, 1, 2, 3, 1, 2, 2, 2, 3, 4, 1, 2, 2, 2, 4, 2, 4, 2, 4, 2, 3, 4, 2, 3, 2, 4, 1, 2, 2, 3, 2, 3, 2, 2, 4, 2, 2, 3, 2, 2, 1, 2, 1, 2, 3, 2, 3, 4, 2, 4, 2, 4, 2, 1, 2, 1, 2, 1, 2, 2, 3, 4, 1, 2, 4, 2, 1, 2, 3, 4, 2, 3, 4, 2, 1, 2, 1, 2, 4, 1, 2, 1, 2, 3, 2, 4, 2, 4, 1, 2, 2, 3, 2, 3, 2, 3, 2, 4, 2, 4, 1, 2, 3, 4, 1, 2, 3, 4, 2, 3, 2, 4, 1, 2, 1, 2, 3, 1, 2, 1, 2, 1, 2, 4, 1, 2, 4, 2, 3, 2, 3, 2, 1, 2, 1, 2, 3, 2, 3, 2, 3, 4, 1, 2, 2, 3, 2, 3, 1, 2, 3, 2, 1, 2, 2, 3, 2, 2, 3, 1, 2], \"Freq\": [0.9285274744033813, 0.040587179362773895, 0.030631834641098976, 0.9997191429138184, 0.0004970210720784962, 0.9995093941688538, 8.556892862543464e-05, 0.9998729228973389, 0.0011475631035864353, 0.9983798861503601, 0.00011193817044841126, 0.9998317360877991, 0.9993308782577515, 0.9992473721504211, 0.9976388812065125, 0.0017975474474951625, 0.061537157744169235, 0.07987764477729797, 0.8354573845863342, 0.02292560786008835, 0.0012547747464850545, 0.9988006949424744, 0.0010742315789684653, 0.9990354180335999, 0.003364188363775611, 0.000177062553120777, 0.1127888411283493, 0.8838962316513062, 0.00014763981744181365, 0.99981689453125, 0.9994929432868958, 0.00038981784018687904, 0.0005756033351644874, 0.9992473721504211, 0.9994672536849976, 0.0005473534110933542, 0.9996801018714905, 0.00021517006098292768, 0.5985819101333618, 0.2882125675678253, 0.11305190622806549, 0.9994410872459412, 0.0010493923909962177, 0.9990215301513672, 0.86004638671875, 0.13977479934692383, 0.9996395111083984, 0.9993396997451782, 0.9727965593338013, 0.02685226872563362, 0.00026586404419504106, 0.00026586404419504106, 0.000484333373606205, 0.9991797208786011, 0.0006642267107963562, 0.9989970326423645, 0.8197343349456787, 0.1779758781194687, 0.001925550401210785, 0.00035964802373200655, 0.999461829662323, 0.9994586110115051, 0.9846013188362122, 0.00018438226834405214, 0.01530372817069292, 0.9588910937309265, 0.00022258382523432374, 0.040955424308776855, 0.9994316697120667, 0.0006169331027194858, 0.9996591210365295, 0.0005100301932543516, 0.00011933914356632158, 0.9998233318328857, 0.2717456519603729, 5.20087342010811e-05, 0.7282263040542603, 0.23255158960819244, 0.5350443720817566, 0.04853059723973274, 0.18380139768123627, 0.8840637803077698, 0.11550039798021317, 0.001434488920494914, 0.998404324054718, 0.9994325637817383, 0.0004269254859536886, 0.999708890914917, 0.9999009370803833, 5.643762051477097e-05, 0.9999052882194519, 0.0004874198930338025, 0.999210774898529, 0.0004989863955415785, 0.9994696974754333, 0.9993762969970703, 0.0002694598806556314, 0.9996961951255798, 0.06168515980243683, 0.9382508397102356, 0.2974807918071747, 0.25981128215789795, 0.4425782561302185, 0.1492443084716797, 0.8133679032325745, 0.03724311664700508, 0.557456374168396, 0.14406421780586243, 0.2986217141151428, 0.9993393421173096, 0.0005678064189851284, 0.7729558944702148, 0.22703854739665985, 0.0013078763149678707, 0.9979096055030823, 0.03930145129561424, 0.09691329300403595, 0.8637686371803284, 0.00046937205479480326, 0.9992930889129639, 0.9995615482330322, 0.00026833865558728576, 4.640841143555008e-05, 0.9999620318412781, 0.0001118651416618377, 0.9998506903648376, 0.000293546705506742, 0.9995265007019043, 0.6688502430915833, 0.3310946822166443, 0.9993175864219666, 0.9995154738426208, 0.0003388953919056803, 0.0003866386541631073, 0.9994609355926514, 0.9917041659355164, 0.00015341957623604685, 0.00813123770058155, 0.9990850687026978, 0.0006263856193982065, 0.9994971752166748, 0.0006094494601711631, 0.0002590155345387757, 0.999799907207489, 0.0010786204366013408, 0.9988025426864624, 0.9875645041465759, 0.012430282309651375, 0.9998679161071777, 0.00011356973118381575, 0.9757245779037476, 0.024080954492092133, 0.9994816780090332, 0.0004002730129286647, 0.0010077813640236855, 0.9987112879753113, 0.9990832209587097, 0.00047316603013314307, 0.9993266463279724, 0.0003969919343944639, 0.9996256828308105, 0.0002159366267733276, 0.9997866153717041, 0.893135130405426, 7.104725955286995e-05, 0.10685507953166962, 0.999705970287323, 0.0002475745277479291, 0.999775767326355, 0.00033437315141782165, 0.0003409523342270404, 0.9996722936630249, 0.07272811979055405, 0.3743560314178467, 0.552870512008667, 0.0005467942683026195, 0.9995399117469788, 0.9996125102043152, 0.0003029128711204976, 0.0007495544850826263, 0.9987813234329224, 0.00013032974675297737, 0.9998898506164551, 0.05509045720100403, 0.9448220729827881, 0.000668280350510031, 0.999079167842865, 0.0002313829172635451, 0.9998055696487427, 0.00017264304915443063, 0.999603271484375, 0.0014318039175122976, 0.9979673027992249, 0.43436041474342346, 0.0001635393127799034, 0.5655189156532288, 0.36823925375938416, 0.00015817837265785784, 0.2787103056907654, 0.35305413603782654, 0.9019867777824402, 0.09766735881567001, 0.00021278290660120547, 0.9996618628501892, 0.9998832941055298, 0.00011478398664621636, 0.02499821037054062, 0.974305272102356, 0.0002611686068121344, 0.9994922876358032, 0.0036489220801740885, 0.0012163073988631368, 0.9961557388305664, 0.9993146061897278, 0.0004932451411150396, 0.000274550577159971, 0.9996386766433716, 0.00047319181612692773, 0.9993811249732971, 0.9994569420814514, 0.2700966000556946, 0.00010131154704140499, 0.22258147597312927, 0.5072669386863708, 0.9998327493667603, 0.00018288507999386638, 5.517758836504072e-05, 0.9999282360076904, 0.2863157391548157, 0.0002026296715484932, 0.7136617302894592, 0.9998481869697571, 0.00020243939070496708, 0.9991254806518555, 0.9002939462661743, 0.011896582320332527, 0.08774847537279129, 0.0005049779429100454, 0.9993513226509094, 0.9998176097869873, 0.00021939155703876168, 0.9997673034667969, 0.001247347448952496, 0.9991253018379211, 0.0006170767010189593, 0.9990472197532654, 0.7623223066329956, 0.2147129625082016, 0.02295837178826332, 0.00046397908590734005, 0.9994109869003296, 5.487741873366758e-05, 0.999921441078186, 0.9859335422515869, 0.013840763829648495, 0.0005575941759161651, 0.9992088079452515, 0.9631556272506714, 0.03660779073834419, 0.9992432594299316, 0.0008402476087212563, 0.9990544319152832, 0.9995245337486267, 0.00027217355091124773, 0.9996934533119202, 0.9996601939201355, 0.9996301531791687, 0.9996881484985352, 0.00033146157511509955, 0.20196059346199036, 0.14941942691802979, 0.6486478447914124, 0.08710680902004242, 0.8838686943054199, 0.028723392635583878, 0.0011212410172447562, 0.9979045391082764, 5.574875831371173e-05, 0.9999097585678101, 0.9990917444229126, 0.9994357228279114, 0.0006443815072998405, 0.9993593096733093, 0.0005567461485043168, 0.9990907907485962, 0.0005904791760258377, 0.9975470304489136, 0.002124700928106904, 0.00035411681164987385, 0.00123463140334934, 0.00123463140334934, 0.9975821375846863, 0.9995720386505127, 0.38170528411865234, 0.00013612884504254907, 0.6163914203643799, 0.001769675058312714, 5.253959170659073e-05, 0.9998283982276917, 0.00010507918341318145, 0.9996416568756104, 0.9992403388023376, 0.0007122168899513781, 0.08191577345132828, 0.09394010901451111, 0.8236668705940247, 0.0006201026262715459, 0.9996054172515869, 0.19514165818691254, 0.5124793648719788, 0.29234856367111206, 5.622586832032539e-05, 0.9999208450317383, 0.0003220416547264904, 0.999617338180542, 0.9995877742767334, 0.000550737080629915, 0.00015427576727233827, 0.9998612403869629, 0.00047106764395721257, 0.9996055364608765, 0.0005143471644259989, 0.9993765354156494, 0.9836903214454651, 0.0161407720297575, 0.9978300333023071, 0.002125680912286043, 0.1799035221338272, 0.5951124429702759, 0.1236291378736496, 0.10146837681531906, 0.20083382725715637, 0.4192652404308319, 0.11284596472978592, 0.26704007387161255, 4.3407129851402715e-05, 0.9999700784683228, 0.031947825103998184, 0.9676641225814819, 0.9950712323188782, 0.004873206373304129, 0.9983382821083069, 0.0005824610707350075, 0.001164922141470015, 0.9993595480918884, 0.00045926449820399284, 0.9995850920677185, 0.0002679852768778801, 0.12384127080440521, 0.8753857016563416, 0.0008496827795170248, 0.5094011425971985, 0.17514842748641968, 0.3155345618724823, 0.9995817542076111, 0.00036467774771153927, 0.0001993503828998655, 0.9997421503067017, 0.9998401403427124, 0.9995604753494263, 0.0003117780725006014, 0.8070506453514099, 0.07051727920770645, 0.12244723737239838, 0.0003962108166888356, 0.9996398687362671, 0.711449921131134, 0.2884599566459656, 0.00018130731768906116, 0.9994282722473145, 0.00042546968325041234, 0.0003419596760068089, 0.9995481967926025, 0.0005310113192535937, 0.9993633031845093, 0.8103410005569458, 0.00033666015951894224, 0.18953967094421387, 0.9997360706329346, 0.9999080896377563, 6.15555327385664e-05, 0.9034841656684875, 0.0964168906211853, 0.9996742010116577, 0.0003344560391269624, 0.9996891617774963, 0.9580330848693848, 0.04156234860420227]}, \"tinfo\": {\"Term\": [\"khai_xu\\u00e2n\", \"v\\u00e9\", \"thay_\\u0111\\u1ed5i_nh\\u1ecf_kh\\u1edfi_\\u0111\\u1ea7u\", \"rinh_qu\\u00e0\", \"tr\\u00e0n_\\u0111\\u1ea7y_ph\\u00fac_l\\u1ed9c_th\\u1ecd\", \"urlpatt_kh\\u00e1m_ph\\u00e1\", \"g\\u1ee3i_\\u00fd_kh\\u1edfi_\\u0111\\u1ea7u\", \"h\\u1ea5p_d\\u1eabn\", \"t\\u1ebft\", \"gi\\u00e1\", \"bay\", \"gia_\\u0111\\u00ecnh\", \"\\u0111\\u1eb9p\", \"b\\u00e9\", \"khuy\\u1ebfn_m\\u00e3i\", \"m\\u1eb9\", \"vi\\u1ec7t_nam\", \"h\\u00e0_n\\u1ed9i\", \"xe\", \"\\u0111i\", \"ch\\u01b0\\u01a1ng_tr\\u00ecnh\", \"g\\u1ee3i_\\u00fd\", \"mua\", \"nestl\\u00e9\", \"vietjet\", \"kh\\u1edfi_\\u0111\\u1ea7u\", \"l\\u1eafm\", \"n\\u00e8\", \"ch\\u00fac\", \"s\\u1eefa\", \"\\u0111\\u1eb9p\", \"l\\u1eafm\", \"n\\u00e8\", \"re\", \"samsung\", \"m\\u00e0u\", \"clip\", \"yamaha\", \"m\\u1ea5y\", \"\\u0111c\", \"k\", \"m\\u00e1y\", \"th\\u1eed\", \"ch\\u1ea1y\", \"m\", \"g\\u00e1i\", \"x\\u00e0i\", \"\\u0111\\u00f4i\", \"ok\", \"ch\\u1ee5p\", \"v\", \"game\", \"lg\", \"tui\", \"h\\u00ecnh_\\u1ea3nh\", \"tuy\\u1ec7t\", \"ga\", \"tr\\u1eafng\", \"kotex\", \"t\\u1ee7_l\\u1ea1nh\", \"xe\", \"ko\", \"e\", \"thi\\u1ebft_k\\u1ebf\", \"xong\", \"c\\u1ef1c\", \"emo_pos_token\", \"mua\", \"\\u0111i\", \"\\u1ea3nh\", \"a\", \"d\\u00f2ng\", \"c\\u00f4ng_ngh\\u1ec7\", \"gi\\u00e1\", \"\\u0111\\u1ea5y\", \"y\\u00eau\", \"t\\u1eb7ng\", \"ngon\", \"h\\u00e3ng\", \"qu\\u00e0\", \"g\\u1ee3i_\\u00fd\", \"gia_\\u0111\\u00ecnh\", \"\\u00fd_ngh\\u0129a\", \"s\\u1ee9c_kh\\u1ecfe\", \"g\\u1eafn_k\\u1ebft\", \"th\\u1ebf_gi\\u1edbi\", \"novaland\", \"c\\u00f4ng_ty\", \"kh\\u1edfi_\\u0111\\u1ea7u\", \"t\\u1eadp_\\u0111o\\u00e0n\", \"b\\u1ea3o_hi\\u1ec3m\", \"cu\\u1ed9c_s\\u1ed1ng\", \"t\\u1ed5_ch\\u1ee9c\", \"th\\u1ecb_tr\\u01b0\\u1eddng\", \"y\\u00eau_th\\u01b0\\u01a1ng\", \"kh\\u00e1m_ph\\u00e1\", \"\\u0111\\u1ed3ng_h\\u00e0nh\", \"an_to\\u00e0n\", \"d\\u1ef1_\\u00e1n\", \"\\u0111\\u1ea7u_t\\u01b0\", \"th\\u00fa_v\\u1ecb\", \"prudential\", \"c\\u00f4ng_vi\\u1ec7c\", \"th\\u01b0\\u01a1ng_hi\\u1ec7u\", \"hi\\u1ec7n_\\u0111\\u1ea1i\", \"t\\u1ef1_tin\", \"tr\\u01b0\\u1eddng\", \"b\\u1ea3o_hi\\u1ec3m_nh\\u00e2n_th\\u1ecd\", \"s\\u00e1ng_t\\u1ea1o\", \"manulife\", \"vi\\u1ec7t_nam\", \"m\\u1eabu\", \"t\\u00ecnh_th\\u00e2n\", \"s\\u1ed1ng\", \"b\\u1ea3o_v\\u1ec7\", \"l\\u00e0m_vi\\u1ec7c\", \"th\\u00e0nh_c\\u00f4ng\", \"vi\\u1ec7t\", \"s\\u1ea3n_ph\\u1ea9m\", \"m\\u1ed9t_ch\\u00fat\", \"l\\u1ef1a_ch\\u1ecdn\", \"\\u0111\\u1ed3ng\", \"ni\\u1ec1m_vui\", \"youtube_com\", \"tham_gia\", \"h\\u1ea1nh_ph\\u00fac\", \"vn\", \"\\u0111\\u00f3n\", \"kh\\u00e1ch_h\\u00e0ng\", \"urlpatt\", \"gi\\u1ea3i\", \"gi\\u00fap\", \"com\", \"vui\", \"v\\u00e9\", \"bay\", \"khuy\\u1ebfn_m\\u00e3i\", \"t\\u1ebft\", \"ch\\u01b0\\u01a1ng_tr\\u00ecnh\", \"vietjet\", \"\\u00e1p_d\\u1ee5ng\", \"mobifone\", \"li\\u00ean_h\\u1ec7\", \"th\\u1ebb\", \"ph\\u00ed\", \"khuy\\u1ebfn_m\\u1ea1i\", \"m\\u00e1y_bay\", \"\\u01b0u_\\u0111\\u00e3i\", \"\\u0111\\u0103ng_k\\u00fd\", \"kh\\u1ee9_h\\u1ed3i\", \"d\\u1ecbch_v\\u1ee5\", \"\\u0111\\u00e0_n\\u1eb5ng\", \"mi\\u1ec5n_ph\\u00ed\", \"n\\u1ea1p\", \"jetstar\", \"thanh_to\\u00e1n\", \"vietnam_airlines\", \"bao_g\\u1ed3m_thu\\u1ebf\", \"hcm\", \"\\u0111\\u01b0\\u1eddng_bay\", \"vinaphone\", \"m\\u1ea1ng\", \"ch\\u1eb7ng_bay\", \"thu\\u00ea_bao\", \"chuy\\u1ebfn\", \"g\\u1eedi\", \"h\\u00e0_n\\u1ed9i\", \"gi\\u00e1\", \"chi\\u1ec1u\", \"tp_hcm\", \"h\\u00e0nh_tr\\u00ecnh\", \"t\\u1eb7ng\", \"r\\u1ebb\", \"ti\\u1ec1n\", \"urlpatt\", \"h\\u00e0ng\", \"\\u0111i\", \"khai_xu\\u00e2n\", \"rinh_qu\\u00e0\", \"thay_\\u0111\\u1ed5i_nh\\u1ecf_kh\\u1edfi_\\u0111\\u1ea7u\", \"urlpatt_kh\\u00e1m_ph\\u00e1\", \"tr\\u00e0n_\\u0111\\u1ea7y_ph\\u00fac_l\\u1ed9c_th\\u1ecd\", \"g\\u1ee3i_\\u00fd_kh\\u1edfi_\\u0111\\u1ea7u\", \"b\\u00e9\", \"m\\u1eb9\", \"s\\u1eefa\", \"nestle\", \"huggies\", \"nestl\\u00e9\", \"u\\u1ed1ng\", \"milo\", \"da\", \"ph\\u00fac_l\\u1ed9c_th\\u1ecd\", \"dinh_d\\u01b0\\u1ee1ng\", \"nescafe\", \"th\\u01a1m\", \"maggi\", \"th_true\", \"ch\\u00f3ng\", \"c\\u00e2n\", \"ly\", \"bobby\", \"s\\u1eefa_chua\", \"tr\\u00e0n_\\u0111\\u1ea7y\", \"ngoan\", \"gi\\u1ecf_qu\\u00e0\", \"t\\u00f3c\", \"h\\u1ea1t\", \"n\\u1ea5u\", \"n\\u0103ng_l\\u01b0\\u1ee3ng\", \"h\\u1ea5p_d\\u1eabn\", \"v\\u1ecb\", \"ch\\u00fac\", \"qu\\u00e0\", \"ngon\", \"m\\u00f3n\", \"t\\u1ef1_nhi\\u00ean\", \"nha\", \"vui\", \"y\\u00eau\", \"gi\\u00fap\"], \"logprob\": [30.0, 29.0, 28.0, 27.0, 26.0, 25.0, 24.0, 23.0, 22.0, 21.0, 20.0, 19.0, 18.0, 17.0, 16.0, 15.0, 14.0, 13.0, 12.0, 11.0, 10.0, 9.0, 8.0, 7.0, 6.0, 5.0, 4.0, 3.0, 2.0, 1.0, -3.9414000511169434, -4.553899765014648, -4.564599990844727, -5.0304999351501465, -5.1321001052856445, -5.333399772644043, -5.1930999755859375, -5.412700176239014, -5.535200119018555, -5.564000129699707, -5.414000034332275, -5.633999824523926, -5.62529993057251, -5.787499904632568, -5.814000129699707, -5.878499984741211, -5.951499938964844, -5.875100135803223, -6.022900104522705, -6.127099990844727, -6.133200168609619, -6.05649995803833, -6.234600067138672, -6.144199848175049, -6.16379976272583, -6.203000068664551, -6.246799945831299, -6.29040002822876, -6.2621002197265625, -6.390500068664551, -4.366600036621094, -4.8628997802734375, -5.053899765014648, -5.520899772644043, -6.190299987792969, -5.432000160217285, -5.268700122833252, -4.197800159454346, -3.821000099182129, -5.903900146484375, -5.843200206756592, -5.6371002197265625, -5.815899848937988, -5.075799942016602, -5.850800037384033, -5.748300075531006, -5.6981000900268555, -5.752299785614014, -5.7932000160217285, -5.748499870300293, -4.446599960327148, -3.8966000080108643, -5.223400115966797, -5.38670015335083, -5.640399932861328, -5.835299968719482, -5.912099838256836, -5.975399971008301, -4.535099983215332, -6.029200077056885, -6.040599822998047, -6.045899868011475, -6.064199924468994, -6.072500228881836, -5.707099914550781, -6.057600021362305, -6.087399959564209, -6.139500141143799, -6.210299968719482, -6.22760009765625, -6.174499988555908, -6.313899993896484, -6.222400188446045, -6.297399997711182, -6.264200210571289, -6.238100051879883, -6.360899925231934, -6.480999946594238, -6.260900020599365, -6.503200054168701, -4.293600082397461, -5.735000133514404, -5.679699897766113, -6.032899856567383, -5.917600154876709, -5.880899906158447, -5.290500164031982, -5.929800033569336, -4.406199932098389, -5.197500228881836, -5.932400226593018, -5.20550012588501, -5.270899772644043, -5.299300193786621, -4.949900150299072, -5.348800182342529, -4.795400142669678, -5.348299980163574, -5.300300121307373, -4.868899822235107, -5.816400051116943, -5.1315999031066895, -5.482500076293945, -5.489500045776367, -3.0833001136779785, -3.76200008392334, -4.03000020980835, -3.2743000984191895, -4.307499885559082, -4.351500034332275, -4.607900142669678, -4.68779993057251, -4.869800090789795, -4.919300079345703, -4.927999973297119, -4.994999885559082, -5.144700050354004, -5.125500202178955, -5.14769983291626, -5.270500183105469, -5.198200225830078, -5.295000076293945, -5.296999931335449, -4.878300189971924, -5.4644999504089355, -5.453000068664551, -5.468100070953369, -5.5218000411987305, -5.525700092315674, -5.5879998207092285, -5.556099891662598, -5.617300033569336, -5.668700218200684, -5.636899948120117, -5.349999904632568, -5.502399921417236, -4.183599948883057, -3.5810999870300293, -4.978400230407715, -5.179599761962891, -5.1244001388549805, -4.710100173950195, -4.961400032043457, -4.907800197601318, -4.935100078582764, -5.17110013961792, -5.19789981842041, -2.947200059890747, -3.120300054550171, -3.114799976348877, -3.1391000747680664, -3.1305999755859375, -3.142899990081787, -3.8278000354766846, -3.9798998832702637, -4.500800132751465, -4.553999900817871, -4.706399917602539, -4.261199951171875, -4.884699821472168, -5.269700050354004, -5.293099880218506, -4.576700210571289, -5.609099864959717, -5.615200042724609, -5.844399929046631, -6.026400089263916, -5.535900115966797, -6.0903000831604, -6.06689977645874, -6.094399929046631, -6.156400203704834, -6.2399001121521, -6.133399963378906, -6.377999782562256, -6.380000114440918, -6.230000019073486, -6.287700176239014, -6.21750020980835, -5.5731000900268555, -3.0724000930786133, -5.707900047302246, -4.4096999168396, -4.406599998474121, -4.776800155639648, -5.1315999031066895, -5.9253997802734375, -5.214799880981445, -5.242599964141846, -5.515399932861328, -5.502200126647949], \"Category\": [\"Default\", \"Default\", \"Default\", \"Default\", \"Default\", \"Default\", \"Default\", \"Default\", \"Default\", \"Default\", \"Default\", \"Default\", \"Default\", \"Default\", \"Default\", \"Default\", \"Default\", \"Default\", \"Default\", \"Default\", \"Default\", \"Default\", \"Default\", \"Default\", \"Default\", \"Default\", \"Default\", \"Default\", \"Default\", \"Default\", \"Topic1\", \"Topic1\", \"Topic1\", \"Topic1\", \"Topic1\", \"Topic1\", \"Topic1\", \"Topic1\", \"Topic1\", \"Topic1\", \"Topic1\", \"Topic1\", \"Topic1\", \"Topic1\", \"Topic1\", \"Topic1\", \"Topic1\", \"Topic1\", \"Topic1\", \"Topic1\", \"Topic1\", \"Topic1\", \"Topic1\", \"Topic1\", \"Topic1\", \"Topic1\", \"Topic1\", \"Topic1\", \"Topic1\", \"Topic1\", \"Topic1\", \"Topic1\", \"Topic1\", \"Topic1\", \"Topic1\", \"Topic1\", \"Topic1\", \"Topic1\", \"Topic1\", \"Topic1\", \"Topic1\", \"Topic1\", \"Topic1\", \"Topic1\", \"Topic1\", \"Topic1\", \"Topic1\", \"Topic1\", \"Topic1\", \"Topic1\", \"Topic2\", \"Topic2\", \"Topic2\", \"Topic2\", \"Topic2\", \"Topic2\", \"Topic2\", \"Topic2\", \"Topic2\", \"Topic2\", \"Topic2\", \"Topic2\", \"Topic2\", \"Topic2\", \"Topic2\", \"Topic2\", \"Topic2\", \"Topic2\", \"Topic2\", \"Topic2\", \"Topic2\", \"Topic2\", \"Topic2\", \"Topic2\", \"Topic2\", \"Topic2\", \"Topic2\", \"Topic2\", \"Topic2\", \"Topic2\", \"Topic2\", \"Topic2\", \"Topic2\", \"Topic2\", \"Topic2\", \"Topic2\", \"Topic2\", \"Topic2\", \"Topic2\", \"Topic2\", \"Topic2\", \"Topic2\", \"Topic2\", \"Topic2\", \"Topic2\", \"Topic2\", \"Topic2\", \"Topic2\", \"Topic2\", \"Topic2\", \"Topic2\", \"Topic2\", \"Topic2\", \"Topic2\", \"Topic3\", \"Topic3\", \"Topic3\", \"Topic3\", \"Topic3\", \"Topic3\", \"Topic3\", \"Topic3\", \"Topic3\", \"Topic3\", \"Topic3\", \"Topic3\", \"Topic3\", \"Topic3\", \"Topic3\", \"Topic3\", \"Topic3\", \"Topic3\", \"Topic3\", \"Topic3\", \"Topic3\", \"Topic3\", \"Topic3\", \"Topic3\", \"Topic3\", \"Topic3\", \"Topic3\", \"Topic3\", \"Topic3\", \"Topic3\", \"Topic3\", \"Topic3\", \"Topic3\", \"Topic3\", \"Topic3\", \"Topic3\", \"Topic3\", \"Topic3\", \"Topic3\", \"Topic3\", \"Topic3\", \"Topic3\", \"Topic3\", \"Topic4\", \"Topic4\", \"Topic4\", \"Topic4\", \"Topic4\", \"Topic4\", \"Topic4\", \"Topic4\", \"Topic4\", \"Topic4\", \"Topic4\", \"Topic4\", \"Topic4\", \"Topic4\", \"Topic4\", \"Topic4\", \"Topic4\", \"Topic4\", \"Topic4\", \"Topic4\", \"Topic4\", \"Topic4\", \"Topic4\", \"Topic4\", \"Topic4\", \"Topic4\", \"Topic4\", \"Topic4\", \"Topic4\", \"Topic4\", \"Topic4\", \"Topic4\", \"Topic4\", \"Topic4\", \"Topic4\", \"Topic4\", \"Topic4\", \"Topic4\", \"Topic4\", \"Topic4\", \"Topic4\", \"Topic4\", \"Topic4\", \"Topic4\"], \"Total\": [21547.0, 23037.0, 18222.0, 18123.0, 17937.0, 17785.0, 17718.0, 22009.0, 19033.0, 19227.0, 11686.0, 16758.0, 16245.0, 8933.0, 8939.0, 7672.0, 11290.0, 8170.0, 10670.0, 22703.0, 6773.0, 9667.0, 14075.0, 5792.0, 6481.0, 8852.0, 8805.0, 8712.0, 5647.0, 4558.0, 16245.4931640625, 8805.1630859375, 8712.0166015625, 5467.91455078125, 4939.75, 4039.187744140625, 4647.48681640625, 3731.54833984375, 3301.279296875, 3207.40966796875, 3726.634033203125, 2990.670654296875, 3016.94091796875, 2565.30078125, 2498.294921875, 2342.3291015625, 2177.39453125, 2350.34375, 2027.3895263671875, 1826.9732666015625, 1815.74853515625, 1960.6683349609375, 1640.8250732421875, 1796.1507568359375, 1761.16357421875, 1693.539794921875, 1620.9212646484375, 1551.875732421875, 1596.460693359375, 1404.066650390625, 10670.5927734375, 6518.07275390625, 5423.51513671875, 3395.766357421875, 1716.8529052734375, 3761.32080078125, 4492.689453125, 14075.1376953125, 22703.65625, 2381.963623046875, 2611.662109375, 3635.32421875, 2897.51806640625, 19227.5390625, 2970.3544921875, 5235.5595703125, 7345.9814453125, 6114.73779296875, 4574.34912109375, 9870.54296875, 9667.9580078125, 16758.9609375, 4446.7109375, 3776.688720703125, 2930.853271484375, 2411.819580078125, 2233.75537109375, 2096.755859375, 8852.2890625, 1986.850341796875, 1964.3143310546875, 1954.0921630859375, 1918.6875, 1902.7037353515625, 2742.14697265625, 1931.3179931640625, 1874.6107177734375, 1779.499755859375, 1657.8975830078125, 1629.4300537109375, 1718.30029296875, 1494.811767578125, 1638.0816650390625, 1519.7225341796875, 1570.9798583984375, 1612.6363525390625, 1426.29541015625, 1264.9520263671875, 1576.3785400390625, 1237.1341552734375, 11290.5, 2668.251708984375, 2823.927001953125, 1980.2845458984375, 2225.254150390625, 2333.01220703125, 4316.02099609375, 2230.376708984375, 11179.681640625, 4828.42236328125, 2242.43603515625, 5009.49560546875, 4699.62548828125, 4707.63916015625, 7666.048828125, 5074.0283203125, 11461.69921875, 5515.4970703125, 6155.3388671875, 12365.3759765625, 2779.211181640625, 9107.65625, 5731.88037109375, 8126.12109375, 23037.689453125, 11686.4853515625, 8939.3349609375, 19033.265625, 6773.240234375, 6481.8994140625, 5016.29345703125, 4630.98828125, 3860.7724609375, 3674.126220703125, 3642.316162109375, 3406.613037109375, 2932.961181640625, 2989.929443359375, 2924.3212890625, 2586.394287109375, 2780.496337890625, 2523.908935546875, 2518.94287109375, 3828.944091796875, 2130.506103515625, 2155.26953125, 2122.83740234375, 2011.987060546875, 2004.062744140625, 1883.198974609375, 1944.212158203125, 1828.8414306640625, 1737.3074951171875, 1793.4189453125, 2390.867431640625, 2051.619140625, 8170.52294921875, 19227.5390625, 4143.837890625, 3202.96435546875, 3678.5322265625, 7345.9814453125, 4935.111328125, 5728.84033203125, 12365.3759765625, 6450.83642578125, 22703.65625, 21547.818359375, 18123.30078125, 18222.431640625, 17785.408203125, 17937.619140625, 17718.677734375, 8933.5029296875, 7672.84521484375, 4558.060546875, 4321.84033203125, 3711.12744140625, 5792.2978515625, 3105.188232421875, 2113.423095703125, 2064.693603515625, 4226.61572265625, 1505.510009765625, 1496.3779296875, 1190.1253662109375, 992.2787475585938, 1620.5440673828125, 930.89794921875, 952.9324340820312, 927.1101684570312, 871.4118041992188, 801.7012329101562, 891.868896484375, 698.419677734375, 697.1123657226562, 809.9583740234375, 764.5983276367188, 822.1605834960938, 1600.114501953125, 22009.365234375, 1408.546630859375, 5647.7216796875, 9870.54296875, 6114.73779296875, 4386.19873046875, 1330.635009765625, 6321.9765625, 8126.12109375, 5235.5595703125, 9107.65625], \"loglift\": [30.0, 29.0, 28.0, 27.0, 26.0, 25.0, 24.0, 23.0, 22.0, 21.0, 20.0, 19.0, 18.0, 17.0, 16.0, 15.0, 14.0, 13.0, 12.0, 11.0, 10.0, 9.0, 8.0, 7.0, 6.0, 5.0, 4.0, 3.0, 2.0, 1.0, 1.1243000030517578, 1.1241999864578247, 1.1241999864578247, 1.1241999864578247, 1.1241999864578247, 1.1240999698638916, 1.1240999698638916, 1.1239999532699585, 1.1239999532699585, 1.1239999532699585, 1.1239999532699585, 1.1239999532699585, 1.1239999532699585, 1.1239999532699585, 1.123900055885315, 1.123900055885315, 1.123900055885315, 1.123900055885315, 1.123900055885315, 1.1238000392913818, 1.1238000392913818, 1.1238000392913818, 1.1237000226974487, 1.1237000226974487, 1.1237000226974487, 1.1237000226974487, 1.1237000226974487, 1.1237000226974487, 1.1236000061035156, 1.1236000061035156, 1.1194000244140625, 1.1160999536514282, 1.1088000535964966, 1.1101000308990479, 1.1227999925613403, 1.0966999530792236, 1.0823999643325806, 1.011299967765808, 0.9100000262260437, 1.0816999673843384, 1.0504000186920166, 0.9257000088691711, 0.9736999869346619, -0.1785999983549118, 0.9140999913215637, 0.4496999979019165, 0.16130000352859497, 0.2904999852180481, 0.5397999882698059, -0.18449999392032623, 1.138100028038025, 1.1380000114440918, 1.1380000114440918, 1.1378999948501587, 1.1377999782562256, 1.1377999782562256, 1.1377999782562256, 1.1377999782562256, 1.1377999782562256, 1.1377999782562256, 1.1377999782562256, 1.1376999616622925, 1.1376999616622925, 1.1376999616622925, 1.1376999616622925, 1.1376999616622925, 1.1376999616622925, 1.1376999616622925, 1.1376999616622925, 1.1376999616622925, 1.1375999450683594, 1.1375999450683594, 1.1375999450683594, 1.1375999450683594, 1.1375999450683594, 1.1375999450683594, 1.1375000476837158, 1.1375000476837158, 1.1375000476837158, 1.1375000476837158, 1.1360000371932983, 1.1370999813079834, 1.135699987411499, 1.1374000310897827, 1.1360000371932983, 1.125499963760376, 1.1007000207901, 1.121500015258789, 1.0332000255584717, 1.0815000534057617, 1.1136000156402588, 1.0367000102996826, 1.035099983215332, 1.0049999952316284, 0.8668000102043152, 0.8805999755859375, 0.6190999746322632, 0.7975999712944031, 0.7358999848365784, 0.46970000863075256, 1.0149999856948853, 0.5128999948501587, 0.625, 0.2689000070095062, 1.6331000328063965, 1.6331000328063965, 1.6331000328063965, 1.6330000162124634, 1.6330000162124634, 1.6330000162124634, 1.6330000162124634, 1.6328999996185303, 1.6328999996185303, 1.6328999996185303, 1.6328999996185303, 1.6328999996185303, 1.6327999830245972, 1.6327999830245972, 1.6327999830245972, 1.632699966430664, 1.632699966430664, 1.632699966430664, 1.632699966430664, 1.632699966430664, 1.632699966430664, 1.632599949836731, 1.632599949836731, 1.632599949836731, 1.632599949836731, 1.632599949836731, 1.632599949836731, 1.6325000524520874, 1.6325000524520874, 1.6325000524520874, 1.6318000555038452, 1.6325000524520874, 1.5693999528884888, 1.316100001335144, 1.4535000324249268, 1.5097999572753906, 1.4265999794006348, 1.1492999792099, 1.295799970626831, 1.2002999782562256, 0.4034999907016754, 0.8181999921798706, -0.4668999910354614, 1.8359999656677246, 1.8359999656677246, 1.8359999656677246, 1.8359999656677246, 1.8359999656677246, 1.8359999656677246, 1.8359999656677246, 1.8358999490737915, 1.835800051689148, 1.835800051689148, 1.835800051689148, 1.835800051689148, 1.8357000350952148, 1.8355000019073486, 1.8355000019073486, 1.8353999853134155, 1.8352999687194824, 1.8352999687194824, 1.8351000547409058, 1.8349000215530396, 1.8349000215530396, 1.8348000049591064, 1.8348000049591064, 1.8348000049591064, 1.8348000049591064, 1.8345999717712402, 1.8344999551773071, 1.8344000577926636, 1.8343000411987305, 1.8343000411987305, 1.8342000246047974, 1.8319000005722046, 1.8104000091552734, 1.6895999908447266, 1.8030999898910522, 1.7125999927520752, 1.1574000120162964, 1.2660000324249268, 1.243399977684021, 1.6425000429153442, 0.794700026512146, 0.5157999992370605, 0.6826000213623047, 0.14229999482631683], \"Freq\": [21547.0, 23037.0, 18222.0, 18123.0, 17937.0, 17785.0, 17718.0, 22009.0, 19033.0, 19227.0, 11686.0, 16758.0, 16245.0, 8933.0, 8939.0, 7672.0, 11290.0, 8170.0, 10670.0, 22703.0, 6773.0, 9667.0, 14075.0, 5792.0, 6481.0, 8852.0, 8805.0, 8712.0, 5647.0, 4558.0, 16244.451171875, 8804.134765625, 8710.8681640625, 5466.83154296875, 4938.744140625, 4038.17041015625, 4646.1953125, 3730.3896484375, 3300.249755859375, 3206.3544921875, 3725.3837890625, 2989.6533203125, 3015.828857421875, 2564.27685546875, 2497.21337890625, 2341.25830078125, 2176.383544921875, 2349.174560546875, 2026.37939453125, 1825.9674072265625, 1814.7049560546875, 1959.534912109375, 1639.822998046875, 1795.0128173828125, 1760.037109375, 1692.4365234375, 1619.8538818359375, 1550.8111572265625, 1595.3302001953125, 1403.0601806640625, 10618.36328125, 6464.39453125, 5339.99609375, 3347.84326171875, 1714.10791015625, 3658.75341796875, 4308.0771484375, 12570.578125, 18322.765625, 2282.419921875, 2425.3984375, 2980.309814453125, 2492.343994140625, 5224.51416015625, 2407.013916015625, 2666.689697265625, 2804.102294921875, 2656.12109375, 2549.588623046875, 2666.272705078125, 9666.79296875, 16756.0625, 4445.76806640625, 3775.71240234375, 2929.737548828125, 2410.867919921875, 2232.830322265625, 2095.852294921875, 8848.3955078125, 1985.9586181640625, 1963.4234619140625, 1953.1851806640625, 1917.784423828125, 1901.80615234375, 2740.83056640625, 1930.3587646484375, 1873.6531982421875, 1778.5672607421875, 1657.00634765625, 1628.5369873046875, 1717.3328857421875, 1493.9251708984375, 1637.0977783203125, 1518.8067626953125, 1570.0115966796875, 1611.5994873046875, 1425.349365234375, 1264.0648193359375, 1575.26318359375, 1236.24609375, 11265.7861328125, 2665.348876953125, 2816.93408203125, 1978.708251953125, 2220.384765625, 2303.544677734375, 4157.1669921875, 2193.518310546875, 10065.0888671875, 4562.09326171875, 2187.83447265625, 4525.9013671875, 4239.21435546875, 4120.59326171875, 5843.763671875, 3921.679931640625, 6820.5576171875, 3923.58349609375, 4116.6259765625, 6337.01953125, 2457.04248046875, 4873.291015625, 3431.006103515625, 3406.84716796875, 23036.537109375, 11685.3212890625, 8938.1787109375, 19030.3671875, 6771.96630859375, 6480.65966796875, 5015.1279296875, 4629.76171875, 3859.591552734375, 3672.962646484375, 3641.149169921875, 3405.46142578125, 2931.80078125, 2988.712646484375, 2923.10302734375, 2585.24658203125, 2779.2314453125, 2522.74072265625, 2517.7666015625, 3826.91064453125, 2129.357421875, 2154.099853515625, 2121.64892578125, 2010.8397216796875, 2002.89404296875, 1882.047119140625, 1943.005126953125, 1827.66259765625, 1736.1614990234375, 1792.2296142578125, 2387.62451171875, 2050.1884765625, 7665.8623046875, 14002.1123046875, 3462.2451171875, 2831.250732421875, 2992.035400390625, 4527.80810546875, 3521.776123046875, 3715.735107421875, 3615.412109375, 2855.42431640625, 2779.980224609375, 21546.587890625, 18122.091796875, 18221.1875, 17784.177734375, 17936.375, 17717.43359375, 8932.3037109375, 7671.63134765625, 4556.90087890625, 4320.64892578125, 3709.97509765625, 5790.3974609375, 3104.027587890625, 2112.269287109375, 2063.451416015625, 4223.8544921875, 1504.3243408203125, 1495.1737060546875, 1188.9619140625, 991.11376953125, 1618.6212158203125, 929.734619140625, 951.7264404296875, 925.91943359375, 870.2595825195312, 800.5452880859375, 890.4737548828125, 697.2609252929688, 695.8865966796875, 808.4689331054688, 763.191162109375, 818.6976928710938, 1559.4725341796875, 19010.796875, 1362.8333740234375, 4991.697265625, 5007.208984375, 3457.85009765625, 2424.91552734375, 1096.4140625, 2231.506591796875, 2170.192626953125, 1652.021484375, 1674.103271484375]}, \"lambda.step\": 0.01, \"R\": 30, \"plot.opts\": {\"ylab\": \"PC2\", \"xlab\": \"PC1\"}, \"mdsDat\": {\"topics\": [1, 2, 3, 4], \"y\": [0.3081771586672965, -0.029465981055001877, -0.19725435670381125, -0.0814568209084836], \"cluster\": [1, 1, 1, 1], \"x\": [0.053391298275886116, 0.08022610110053369, 0.21567027506077482, -0.34928767443719444], \"Freq\": [32.48615264892578, 32.03937530517578, 19.530534744262695, 15.943938255310059]}, \"topic.order\": [3, 4, 1, 2]};\n",
       "\n",
       "function LDAvis_load_lib(url, callback){\n",
       "  var s = document.createElement('script');\n",
       "  s.src = url;\n",
       "  s.async = true;\n",
       "  s.onreadystatechange = s.onload = callback;\n",
       "  s.onerror = function(){console.warn(\"failed to load library \" + url);};\n",
       "  document.getElementsByTagName(\"head\")[0].appendChild(s);\n",
       "}\n",
       "\n",
       "if(typeof(LDAvis) !== \"undefined\"){\n",
       "   // already loaded: just create the visualization\n",
       "   !function(LDAvis){\n",
       "       new LDAvis(\"#\" + \"ldavis_el291406993544896243573527\", ldavis_el291406993544896243573527_data);\n",
       "   }(LDAvis);\n",
       "}else if(typeof define === \"function\" && define.amd){\n",
       "   // require.js is available: use it to load d3/LDAvis\n",
       "   require.config({paths: {d3: \"https://cdnjs.cloudflare.com/ajax/libs/d3/3.5.5/d3.min\"}});\n",
       "   require([\"d3\"], function(d3){\n",
       "      window.d3 = d3;\n",
       "      LDAvis_load_lib(\"https://cdn.rawgit.com/bmabey/pyLDAvis/files/ldavis.v1.0.0.js\", function(){\n",
       "        new LDAvis(\"#\" + \"ldavis_el291406993544896243573527\", ldavis_el291406993544896243573527_data);\n",
       "      });\n",
       "    });\n",
       "}else{\n",
       "    // require.js not available: dynamically load d3 & LDAvis\n",
       "    LDAvis_load_lib(\"https://cdnjs.cloudflare.com/ajax/libs/d3/3.5.5/d3.min.js\", function(){\n",
       "         LDAvis_load_lib(\"https://cdn.rawgit.com/bmabey/pyLDAvis/files/ldavis.v1.0.0.js\", function(){\n",
       "                 new LDAvis(\"#\" + \"ldavis_el291406993544896243573527\", ldavis_el291406993544896243573527_data);\n",
       "            })\n",
       "         });\n",
       "}\n",
       "</script>"
      ],
      "text/plain": [
       "PreparedData(topic_coordinates=            Freq  cluster  topics         x         y\n",
       "topic                                                \n",
       "2      32.486153        1       1  0.053391  0.308177\n",
       "3      32.039375        1       2  0.080226 -0.029466\n",
       "0      19.530535        1       3  0.215670 -0.197254\n",
       "1      15.943938        1       4 -0.349288 -0.081457, topic_info=       Category          Freq                   Term         Total  loglift  \\\n",
       "term                                                                          \n",
       "25473   Default  21547.000000              khai_xuân  21547.000000  30.0000   \n",
       "88536   Default  23037.000000                     vé  23037.000000  29.0000   \n",
       "34351   Default  18222.000000  thay_đổi_nhỏ_khởi_đầu  18222.000000  28.0000   \n",
       "59122   Default  18123.000000               rinh_quà  18123.000000  27.0000   \n",
       "91568   Default  17937.000000  tràn_đầy_phúc_lộc_thọ  17937.000000  26.0000   \n",
       "34225   Default  17785.000000       urlpatt_khám_phá  17785.000000  25.0000   \n",
       "105658  Default  17718.000000         gợi_ý_khởi_đầu  17718.000000  24.0000   \n",
       "64881   Default  22009.000000                hấp_dẫn  22009.000000  23.0000   \n",
       "98744   Default  19033.000000                    tết  19033.000000  22.0000   \n",
       "51262   Default  19227.000000                    giá  19227.000000  21.0000   \n",
       "76682   Default  11686.000000                    bay  11686.000000  20.0000   \n",
       "33191   Default  16758.000000               gia_đình  16758.000000  19.0000   \n",
       "87628   Default  16245.000000                    đẹp  16245.000000  18.0000   \n",
       "74554   Default   8933.000000                     bé   8933.000000  17.0000   \n",
       "36604   Default   8939.000000             khuyến_mãi   8939.000000  16.0000   \n",
       "30779   Default   7672.000000                     mẹ   7672.000000  15.0000   \n",
       "54775   Default  11290.000000               việt_nam  11290.000000  14.0000   \n",
       "98892   Default   8170.000000                 hà_nội   8170.000000  13.0000   \n",
       "88860   Default  10670.000000                     xe  10670.000000  12.0000   \n",
       "24902   Default  22703.000000                     đi  22703.000000  11.0000   \n",
       "22643   Default   6773.000000           chương_trình   6773.000000  10.0000   \n",
       "101774  Default   9667.000000                  gợi_ý   9667.000000   9.0000   \n",
       "1857    Default  14075.000000                    mua  14075.000000   8.0000   \n",
       "83261   Default   5792.000000                 nestlé   5792.000000   7.0000   \n",
       "1395    Default   6481.000000                vietjet   6481.000000   6.0000   \n",
       "24338   Default   8852.000000               khởi_đầu   8852.000000   5.0000   \n",
       "21517   Default   8805.000000                    lắm   8805.000000   4.0000   \n",
       "28960   Default   8712.000000                     nè   8712.000000   3.0000   \n",
       "22683   Default   5647.000000                   chúc   5647.000000   2.0000   \n",
       "70570   Default   4558.000000                    sữa   4558.000000   1.0000   \n",
       "...         ...           ...                    ...           ...      ...   \n",
       "36085    Topic4   2063.451416                     da   2064.693604   1.8355   \n",
       "72632    Topic4   4223.854492           phúc_lộc_thọ   4226.615723   1.8354   \n",
       "21272    Topic4   1504.324341             dinh_dưỡng   1505.510010   1.8353   \n",
       "409      Topic4   1495.173706                nescafe   1496.377930   1.8353   \n",
       "39833    Topic4   1188.961914                   thơm   1190.125366   1.8351   \n",
       "50454    Topic4    991.113770                  maggi    992.278748   1.8349   \n",
       "12124    Topic4   1618.621216                th_true   1620.544067   1.8349   \n",
       "8872     Topic4    929.734619                  chóng    930.897949   1.8348   \n",
       "38945    Topic4    951.726440                    cân    952.932434   1.8348   \n",
       "99801    Topic4    925.919434                     ly    927.110168   1.8348   \n",
       "71683    Topic4    870.259583                  bobby    871.411804   1.8348   \n",
       "1760     Topic4    800.545288               sữa_chua    801.701233   1.8346   \n",
       "69494    Topic4    890.473755               tràn_đầy    891.868896   1.8345   \n",
       "34563    Topic4    697.260925                  ngoan    698.419678   1.8344   \n",
       "9843     Topic4    695.886597                giỏ_quà    697.112366   1.8343   \n",
       "41160    Topic4    808.468933                    tóc    809.958374   1.8343   \n",
       "28809    Topic4    763.191162                    hạt    764.598328   1.8342   \n",
       "69413    Topic4    818.697693                    nấu    822.160583   1.8319   \n",
       "104337   Topic4   1559.472534             năng_lượng   1600.114502   1.8104   \n",
       "64881    Topic4  19010.796875                hấp_dẫn  22009.365234   1.6896   \n",
       "70473    Topic4   1362.833374                     vị   1408.546631   1.8031   \n",
       "22683    Topic4   4991.697266                   chúc   5647.721680   1.7126   \n",
       "79519    Topic4   5007.208984                    quà   9870.542969   1.1574   \n",
       "8626     Topic4   3457.850098                   ngon   6114.737793   1.2660   \n",
       "48235    Topic4   2424.915527                    món   4386.198730   1.2434   \n",
       "73691    Topic4   1096.414062               tự_nhiên   1330.635010   1.6425   \n",
       "58637    Topic4   2231.506592                    nha   6321.976562   0.7947   \n",
       "64702    Topic4   2170.192627                    vui   8126.121094   0.5158   \n",
       "33022    Topic4   1652.021484                    yêu   5235.559570   0.6826   \n",
       "73648    Topic4   1674.103271                   giúp   9107.656250   0.1423   \n",
       "\n",
       "        logprob  \n",
       "term             \n",
       "25473   30.0000  \n",
       "88536   29.0000  \n",
       "34351   28.0000  \n",
       "59122   27.0000  \n",
       "91568   26.0000  \n",
       "34225   25.0000  \n",
       "105658  24.0000  \n",
       "64881   23.0000  \n",
       "98744   22.0000  \n",
       "51262   21.0000  \n",
       "76682   20.0000  \n",
       "33191   19.0000  \n",
       "87628   18.0000  \n",
       "74554   17.0000  \n",
       "36604   16.0000  \n",
       "30779   15.0000  \n",
       "54775   14.0000  \n",
       "98892   13.0000  \n",
       "88860   12.0000  \n",
       "24902   11.0000  \n",
       "22643   10.0000  \n",
       "101774   9.0000  \n",
       "1857     8.0000  \n",
       "83261    7.0000  \n",
       "1395     6.0000  \n",
       "24338    5.0000  \n",
       "21517    4.0000  \n",
       "28960    3.0000  \n",
       "22683    2.0000  \n",
       "70570    1.0000  \n",
       "...         ...  \n",
       "36085   -5.2931  \n",
       "72632   -4.5767  \n",
       "21272   -5.6091  \n",
       "409     -5.6152  \n",
       "39833   -5.8444  \n",
       "50454   -6.0264  \n",
       "12124   -5.5359  \n",
       "8872    -6.0903  \n",
       "38945   -6.0669  \n",
       "99801   -6.0944  \n",
       "71683   -6.1564  \n",
       "1760    -6.2399  \n",
       "69494   -6.1334  \n",
       "34563   -6.3780  \n",
       "9843    -6.3800  \n",
       "41160   -6.2300  \n",
       "28809   -6.2877  \n",
       "69413   -6.2175  \n",
       "104337  -5.5731  \n",
       "64881   -3.0724  \n",
       "70473   -5.7079  \n",
       "22683   -4.4097  \n",
       "79519   -4.4066  \n",
       "8626    -4.7768  \n",
       "48235   -5.1316  \n",
       "73691   -5.9254  \n",
       "58637   -5.2148  \n",
       "64702   -5.2426  \n",
       "33022   -5.5154  \n",
       "73648   -5.5022  \n",
       "\n",
       "[221 rows x 6 columns], token_table=        Topic      Freq               Term\n",
       "term                                      \n",
       "54090       1  0.928527                  a\n",
       "54090       2  0.040587                  a\n",
       "54090       4  0.030632                  a\n",
       "66846       2  0.999719            an_toàn\n",
       "47040       2  0.000497       bao_gồm_thuế\n",
       "47040       3  0.999509       bao_gồm_thuế\n",
       "76682       2  0.000086                bay\n",
       "76682       3  0.999873                bay\n",
       "71683       2  0.001148              bobby\n",
       "71683       4  0.998380              bobby\n",
       "74554       2  0.000112                 bé\n",
       "74554       4  0.999832                 bé\n",
       "6823        2  0.999331           bảo_hiểm\n",
       "80223       2  0.999247  bảo_hiểm_nhân_thọ\n",
       "62458       2  0.997639             bảo_vệ\n",
       "62458       4  0.001798             bảo_vệ\n",
       "52390       1  0.061537              chiều\n",
       "52390       2  0.079878              chiều\n",
       "52390       3  0.835457              chiều\n",
       "52390       4  0.022926              chiều\n",
       "20183       2  0.001255             chuyến\n",
       "20183       3  0.998801             chuyến\n",
       "8872        2  0.001074              chóng\n",
       "8872        4  0.999035              chóng\n",
       "22683       1  0.003364               chúc\n",
       "22683       2  0.000177               chúc\n",
       "22683       3  0.112789               chúc\n",
       "22683       4  0.883896               chúc\n",
       "22643       2  0.000148       chương_trình\n",
       "22643       3  0.999817       chương_trình\n",
       "...       ...       ...                ...\n",
       "27407       2  0.999840            ý_nghĩa\n",
       "22602       1  0.999560                 đc\n",
       "22602       2  0.000312                 đc\n",
       "24902       1  0.807051                 đi\n",
       "24902       2  0.070517                 đi\n",
       "24902       3  0.122447                 đi\n",
       "28934       2  0.000396            đà_nẵng\n",
       "28934       3  0.999640            đà_nẵng\n",
       "49361       2  0.711450                đón\n",
       "49361       3  0.288460                đón\n",
       "49361       4  0.000181                đón\n",
       "64787       1  0.999428                đôi\n",
       "64787       2  0.000425                đôi\n",
       "70596       2  0.000342            đăng_ký\n",
       "70596       3  0.999548            đăng_ký\n",
       "26958       2  0.000531          đường_bay\n",
       "26958       3  0.999363          đường_bay\n",
       "21410       1  0.810341                đấy\n",
       "21410       2  0.000337                đấy\n",
       "21410       3  0.189540                đấy\n",
       "103365      2  0.999736             đầu_tư\n",
       "87628       1  0.999908                đẹp\n",
       "87628       2  0.000062                đẹp\n",
       "21636       2  0.903484               đồng\n",
       "21636       3  0.096417               đồng\n",
       "36539       2  0.999674          đồng_hành\n",
       "38693       2  0.000334             ưu_đãi\n",
       "38693       3  0.999689             ưu_đãi\n",
       "61868       1  0.958033                ảnh\n",
       "61868       2  0.041562                ảnh\n",
       "\n",
       "[388 rows x 3 columns], R=30, lambda_step=0.01, plot_opts={'ylab': 'PC2', 'xlab': 'PC1'}, topic_order=[3, 4, 1, 2])"
      ]
     },
     "execution_count": 30,
     "metadata": {},
     "output_type": "execute_result"
    }
   ],
   "source": [
    "# Visualize the topics\n",
    "pyLDAvis.enable_notebook()\n",
    "vis = pyLDAvis.gensim.prepare(lda_model, corpus, id2word)\n",
    "vis"
   ]
  }
 ],
 "metadata": {
  "kernelspec": {
   "display_name": "Python 3",
   "language": "python",
   "name": "python3"
  },
  "language_info": {
   "codemirror_mode": {
    "name": "ipython",
    "version": 3
   },
   "file_extension": ".py",
   "mimetype": "text/x-python",
   "name": "python",
   "nbconvert_exporter": "python",
   "pygments_lexer": "ipython3",
   "version": "3.5.2"
  }
 },
 "nbformat": 4,
 "nbformat_minor": 2
}
