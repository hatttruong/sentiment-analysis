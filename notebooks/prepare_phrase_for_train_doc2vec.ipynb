{
 "cells": [
  {
   "cell_type": "code",
   "execution_count": 14,
   "metadata": {},
   "outputs": [],
   "source": [
    "import pandas as pd\n",
    "import nltk\n",
    "from pyvi import ViTokenizer\n",
    "import json\n",
    "import ast"
   ]
  },
  {
   "cell_type": "markdown",
   "metadata": {},
   "source": [
    "# Extract sentences to train doc2vec\n",
    "\n",
    "I combine from many data source\n",
    "\n",
    "- labeled data\n",
    "- comments crawled from tiki\n",
    "- features & content of products from tiki"
   ]
  },
  {
   "cell_type": "code",
   "execution_count": 19,
   "metadata": {},
   "outputs": [],
   "source": [
    "data = []"
   ]
  },
  {
   "cell_type": "code",
   "execution_count": null,
   "metadata": {},
   "outputs": [],
   "source": [
    "# load neg, pos, neu => split to sentences\n",
    "corpus_paths = ['../data/%s_train.csv' % l for l in ['Positive', 'Neutral', 'Negative']]\n",
    "for filename in corpus_paths:\n",
    "    df = pd.read_csv(filename, header=None, names=['text'])\n",
    "    for _, row in df.iterrows():\n",
    "        data.extend([s for s in nltk.sent_tokenize(ViTokenizer.tokenize(row['text'])) if len(s) > 1])\n",
    "print(len(data))"
   ]
  },
  {
   "cell_type": "code",
   "execution_count": null,
   "metadata": {},
   "outputs": [],
   "source": [
    "# load comments & split to sentences\n",
    "comment_path = '../../crawler-webpage/tiki_crawler/dien-thoai-may-tinh-bang_comments.csv'\n",
    "comment_df = pd.read_csv(comment_path)\n",
    "comment_df.head()\n",
    "for _, row in comment_df.iterrows():\n",
    "    data.append(ViTokenizer.tokenize(row['title']))\n",
    "    data.extend([s for s in nltk.sent_tokenize(ViTokenizer.tokenize(row['content'])) if len(s) > 1])\n",
    "print(len(data))"
   ]
  },
  {
   "cell_type": "code",
   "execution_count": null,
   "metadata": {},
   "outputs": [],
   "source": [
    "# combine features to phrases\n",
    "category = 'dien-thoai-may-tinh-bang'\n",
    "file_path = '../../crawler-webpage/tiki_crawler/%s_products.csv' % category\n",
    "feature_df = pd.read_csv(file_path)\n",
    "feature_df.head()"
   ]
  },
  {
   "cell_type": "code",
   "execution_count": null,
   "metadata": {},
   "outputs": [],
   "source": [
    "for _, row in feature_df.iterrows():\n",
    "    data.extend([ViTokenizer.tokenize(f) for f in row['top_features'].split(';')])\n",
    "    data.extend([s for s in nltk.sent_tokenize(ViTokenizer.tokenize(row['content'])) if len(s) > 1])\n",
    "    # features\n",
    "    primary_features = ['%s %s' % (k, v) for k, v in ast.literal_eval(row['features']).items() if k != 'SKU']\n",
    "    data.extend([ViTokenizer.tokenize(f) for f in primary_features])\n",
    "print(len(data))"
   ]
  },
  {
   "cell_type": "code",
   "execution_count": null,
   "metadata": {},
   "outputs": [],
   "source": [
    "# export to csv\n",
    "df = pd.DataFrame.from_dict([{'sentences': s} for s in data])\n",
    "file_path = '../data/sentences_train.csv'\n",
    "df.to_csv(file_path, index=False)"
   ]
  }
 ],
 "metadata": {
  "kernelspec": {
   "display_name": "Python 3",
   "language": "python",
   "name": "python3"
  },
  "language_info": {
   "codemirror_mode": {
    "name": "ipython",
    "version": 3
   },
   "file_extension": ".py",
   "mimetype": "text/x-python",
   "name": "python",
   "nbconvert_exporter": "python",
   "pygments_lexer": "ipython3",
   "version": "3.5.2"
  }
 },
 "nbformat": 4,
 "nbformat_minor": 2
}
