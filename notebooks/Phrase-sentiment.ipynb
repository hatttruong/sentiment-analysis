{
 "cells": [
  {
   "cell_type": "code",
   "execution_count": 1,
   "metadata": {},
   "outputs": [],
   "source": [
    "import numpy as np\n",
    "import pandas as pd\n",
    "from pathlib import Path\n",
    "import re\n",
    "import string\n",
    "from pyvi import ViTokenizer, ViPosTagger\n",
    "import nltk\n",
    "import os"
   ]
  },
  {
   "cell_type": "code",
   "execution_count": 5,
   "metadata": {},
   "outputs": [],
   "source": [
    "DATA_DIR = '../data/not_remove_Np/'\n",
    "corpus_paths = [ \n",
    "    Path(DATA_DIR + 'Negative_train.csv.preprocessed_pos'),\n",
    "    Path(DATA_DIR + 'Neutral_train.csv.preprocessed_pos'),\n",
    "    Path(DATA_DIR + 'Positive_train.csv.preprocessed_pos')]"
   ]
  },
  {
   "cell_type": "code",
   "execution_count": 8,
   "metadata": {},
   "outputs": [
    {
     "name": "stdout",
     "output_type": "stream",
     "text": [
      "['tên/N', 'sản_phẩm/N', 'dầu/Np', 'xả/V', 'sunsilk_nourishing/Np', 'soft/Np', 'and_smooth/Np', 'conditionerbao/V', 'bì/N', 'chai/Np', 'nhựa/N', 'màu/N', 'vàng/A', 'chóegiá/A', 'currency_token/Ny', 'knơi/V', 'mua/V', 'siêu_thị/N', 'co/V', './F', 'op/N', 'martđánh/V', 'giá/N', 'chung/A', 'hãng/N', 'quảng_cáo/N', 'là/V', 'dầu/Np', 'xả/V', 'với/E', 'dưỡng_chất/N', 'macadamia/Np', 'và/C', 'hỗn_hợp/N', 'năm/N', 'tinh_dầu/N', 'tự_nhiên/A', 'giúp/V', 'nuôi_dưỡng/V', 'tóc/N', 'mềm/A', 'mượt/A', './F', 'mình/P', 'dùng/V', 'xong/V', 'thì/C', 'thấy/V', 'tóc/N', 'mềm/A', 'mượt/A', 'thật/R', './F', 'tuy_nhiên/C', 'mỗi/M', 'lần/N', 'dùng/V', 'dầu/N', 'xả/V', 'thì/C', 'tóc/N', 'mình/P', 'rất/R', 'lâu/A', 'khô/A', './F', 'nên/C', 'khi/N', 'nào/P', 'có/V', 'thời_gian/N', 'rảnh/A', 'thì/C', 'mình/P', 'mới/R', 'dùng/V', './F', 'trọng_lượng/N', 'chai/N', 'dầu/N', 'xả/V', 'number_token/Ny', 'datetime_token/Ny', 'mình/P', 'rất/R', 'ít/A', 'dùng/V', 'dầu/N', 'xả/V', 'nên/C', 'xài/V', 'number_token/Ny', 'chai/N', 'rất/R', 'lâu/A', './F', 'có/V', 'mua/V', 'lại/R', 'không/R', 'không/R', 'mua/V', './F']\n"
     ]
    }
   ],
   "source": [
    "short_document_per_label = dict()\n",
    "order_types = ['A', 'R', 'V']\n",
    "punct = list(string.punctuation)\n",
    "for corpus_path in corpus_paths:\n",
    "    label = os.path.basename(str(corpus_path)).split('.')[0]\n",
    "    df = pd.read_csv(corpus_path, header=None, names=['text'])\n",
    "    short_document_per_label[label] = list()\n",
    "    for index, row in df.iterrows():\n",
    "        terms_with_labels = row['text'].split()\n",
    "        if len(terms_with_labels) > 200:\n",
    "            terms_with_labels = terms_with_labels[:200]\n",
    "        if len(terms_with_labels) <= 2:\n",
    "            short_document_per_label[label].append(row['text'])\n",
    "        print(terms_with_labels)      \n",
    "        break\n",
    "    break\n",
    "       \n",
    "# short_document_per_label"
   ]
  },
  {
   "cell_type": "code",
   "execution_count": null,
   "metadata": {},
   "outputs": [],
   "source": []
  }
 ],
 "metadata": {
  "kernelspec": {
   "display_name": "Python 3",
   "language": "python",
   "name": "python3"
  },
  "language_info": {
   "codemirror_mode": {
    "name": "ipython",
    "version": 3
   },
   "file_extension": ".py",
   "mimetype": "text/x-python",
   "name": "python",
   "nbconvert_exporter": "python",
   "pygments_lexer": "ipython3",
   "version": "3.5.2"
  }
 },
 "nbformat": 4,
 "nbformat_minor": 2
}
